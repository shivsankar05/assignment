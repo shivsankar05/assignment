{
  "nbformat": 4,
  "nbformat_minor": 0,
  "metadata": {
    "colab": {
      "provenance": []
    },
    "kernelspec": {
      "name": "python3",
      "display_name": "Python 3"
    },
    "language_info": {
      "name": "python"
    }
  },
  "cells": [
    {
      "cell_type": "markdown",
      "source": [
        "Name:Shiv Sankar Maity.\n",
        "Batch:Data Science With Generative Ai - April'24"
      ],
      "metadata": {
        "id": "hdZMB3KiBYkZ"
      }
    },
    {
      "cell_type": "markdown",
      "source": [
        "1. Write a code to reverse a string."
      ],
      "metadata": {
        "id": "QY4yHkMG7uLL"
      }
    },
    {
      "cell_type": "code",
      "execution_count": null,
      "metadata": {
        "colab": {
          "base_uri": "https://localhost:8080/"
        },
        "id": "fCE02h_ZzLFD",
        "outputId": "b005f90e-2122-4ea3-ee0c-59fc2c681e31"
      },
      "outputs": [
        {
          "output_type": "stream",
          "name": "stdout",
          "text": [
            "sllikswp\n"
          ]
        }
      ],
      "source": [
        "a = \"pwskills\"[::-1]\n",
        "print(a)"
      ]
    },
    {
      "cell_type": "markdown",
      "source": [
        "2. Write a code to count the number of voweles in a string."
      ],
      "metadata": {
        "id": "-gD9UeGG74bi"
      }
    },
    {
      "cell_type": "code",
      "source": [
        "string=input(\"enter a atring:\")\n",
        "count=0\n",
        "string=string.lower()\n",
        "for i in string:\n",
        "  if i =='a' or i == 'e' or i == 'i' or  i == 'o' or i == 'u':\n",
        "    count+=1\n",
        "if count == 0:\n",
        "  print(\"no vowels found\")\n",
        "else:\n",
        "  print(\"total vowels are :\" +str(count) )\n",
        "\n",
        "\n"
      ],
      "metadata": {
        "colab": {
          "base_uri": "https://localhost:8080/"
        },
        "id": "7V2w72pYDFUP",
        "outputId": "a292b9b9-48eb-4b64-9889-4e80c020783d"
      },
      "execution_count": null,
      "outputs": [
        {
          "output_type": "stream",
          "name": "stdout",
          "text": [
            "enter a atring:shisAnkarmaity\n",
            "total vowels are :5\n"
          ]
        }
      ]
    },
    {
      "cell_type": "markdown",
      "source": [
        "3. Write a code to check if a given string is a palindrome or not."
      ],
      "metadata": {
        "id": "zuLf03i08O6z"
      }
    },
    {
      "cell_type": "code",
      "source": [
        "x = \"malayalam\"\n",
        "w = \"\"\n",
        "for i in x:\n",
        "  w= i + w\n",
        "if x==w:\n",
        "  print(\"yes\")\n",
        "else:\n",
        "  print(\"no\")\n",
        "\n"
      ],
      "metadata": {
        "colab": {
          "base_uri": "https://localhost:8080/"
        },
        "id": "nZWkODryHJlN",
        "outputId": "e661f924-40e6-4181-851f-8b145e46f990"
      },
      "execution_count": null,
      "outputs": [
        {
          "output_type": "stream",
          "name": "stdout",
          "text": [
            "yes\n"
          ]
        }
      ]
    },
    {
      "cell_type": "markdown",
      "source": [
        "4. Write a code to check if two given strings 'are anagrams of each other."
      ],
      "metadata": {
        "id": "rFKkSdBt8lC5"
      }
    },
    {
      "cell_type": "code",
      "source": [
        "s1=\"listen\"\n",
        "s2=\"silent\"\n",
        "s1_sorterd=(sorted(s1))\n",
        "s2_sorted=(sorted(s2))\n",
        "if s1_sorterd==s2_sorted:\n",
        "  print(f\"{s1} and {s2} are anagrams\")\n",
        "else:\n",
        "  print(\"not\")\n"
      ],
      "metadata": {
        "colab": {
          "base_uri": "https://localhost:8080/"
        },
        "id": "x-OayOpAHz1D",
        "outputId": "eda088d5-8aea-4c95-e8f3-f621f959df2b"
      },
      "execution_count": null,
      "outputs": [
        {
          "output_type": "stream",
          "name": "stdout",
          "text": [
            "listen and silent are anagrams\n"
          ]
        }
      ]
    },
    {
      "cell_type": "markdown",
      "source": [
        "5. Write a code to find all occurrences of a given substring within another string."
      ],
      "metadata": {
        "id": "-8sQd2dO8_Sw"
      }
    },
    {
      "cell_type": "code",
      "source": [
        "a=\"i am learning datascience\"\n",
        "print(a.find(\"am\"))"
      ],
      "metadata": {
        "colab": {
          "base_uri": "https://localhost:8080/"
        },
        "id": "2gOE6LnlOThX",
        "outputId": "0551dad1-b6b7-467a-ffd8-81faefc7d318"
      },
      "execution_count": null,
      "outputs": [
        {
          "output_type": "stream",
          "name": "stdout",
          "text": [
            "2\n"
          ]
        }
      ]
    },
    {
      "cell_type": "markdown",
      "source": [
        "6. Write a code to perform basic string compression using the counts of repeated characters."
      ],
      "metadata": {
        "id": "RXpZVrp69YZA"
      }
    },
    {
      "cell_type": "code",
      "source": [
        "a = \"pwskills\"\n",
        "print(a.count(\"l\"))"
      ],
      "metadata": {
        "colab": {
          "base_uri": "https://localhost:8080/"
        },
        "id": "icf02xEDOwRx",
        "outputId": "e6124bd8-41fd-423d-f061-1efa565f9acc"
      },
      "execution_count": null,
      "outputs": [
        {
          "output_type": "stream",
          "name": "stdout",
          "text": [
            "2\n"
          ]
        }
      ]
    },
    {
      "cell_type": "markdown",
      "source": [
        "8. Write a code to convert a given string to uppercase or lowercase."
      ],
      "metadata": {
        "id": "8muVlx0m94Vg"
      }
    },
    {
      "cell_type": "code",
      "source": [
        "name = \"Shiv Sankar Maity\"\n",
        "print(name.lower())\n",
        "print(name.upper())"
      ],
      "metadata": {
        "colab": {
          "base_uri": "https://localhost:8080/"
        },
        "id": "y6ceIU_YQl_x",
        "outputId": "b65b2548-7061-47d4-ebc4-41a541c128e2"
      },
      "execution_count": null,
      "outputs": [
        {
          "output_type": "stream",
          "name": "stdout",
          "text": [
            "shiv sankar maity\n",
            "SHIV SANKAR MAITY\n"
          ]
        }
      ]
    },
    {
      "cell_type": "markdown",
      "source": [
        "9. Write a code to count the number of words in a string."
      ],
      "metadata": {
        "id": "TsM4zmtV-ONt"
      }
    },
    {
      "cell_type": "code",
      "source": [
        "a = \"i am learning datascience\"\n",
        "count=0\n",
        "for i in a:\n",
        "  count+=1\n",
        "print(count)"
      ],
      "metadata": {
        "colab": {
          "base_uri": "https://localhost:8080/"
        },
        "id": "3d22Y5_FUhE-",
        "outputId": "290baac6-0feb-4b8c-b921-f84bdb3ac32e"
      },
      "execution_count": null,
      "outputs": [
        {
          "output_type": "stream",
          "name": "stdout",
          "text": [
            "25\n"
          ]
        }
      ]
    },
    {
      "cell_type": "markdown",
      "source": [
        "10. Write a code to concatenate two strings without using the + operator."
      ],
      "metadata": {
        "id": "wKM1I5rm-eSE"
      }
    },
    {
      "cell_type": "code",
      "source": [
        "s1=\"hello\"\n",
        "s2=\"world\"\n",
        "print(\" \".join([s1,s2]))"
      ],
      "metadata": {
        "colab": {
          "base_uri": "https://localhost:8080/"
        },
        "id": "pmNM4VXaVykw",
        "outputId": "ab36e6bf-c1b9-461c-dc74-a1d60ef91a82"
      },
      "execution_count": null,
      "outputs": [
        {
          "output_type": "stream",
          "name": "stdout",
          "text": [
            "hello world\n"
          ]
        }
      ]
    },
    {
      "cell_type": "markdown",
      "source": [
        "11. Write a code to remove all occurrences of a specific element from a list."
      ],
      "metadata": {
        "id": "uWJ61Jjk-yy9"
      }
    },
    {
      "cell_type": "code",
      "source": [
        "book= [\"physics\",\"math\",\"biology\",\"history\"]\n",
        "book.remove(\"history\")\n",
        "print(book)\n",
        "\n"
      ],
      "metadata": {
        "colab": {
          "base_uri": "https://localhost:8080/"
        },
        "id": "4RtBgayMXr3q",
        "outputId": "cbde0817-45dc-4313-a34f-86daba986914"
      },
      "execution_count": null,
      "outputs": [
        {
          "output_type": "stream",
          "name": "stdout",
          "text": [
            "['physics', 'math', 'biology']\n"
          ]
        }
      ]
    },
    {
      "cell_type": "markdown",
      "source": [
        "12. Implement a code to find the second largest number in a given list of integers."
      ],
      "metadata": {
        "id": "HbYAofeq_MmR"
      }
    },
    {
      "cell_type": "code",
      "source": [
        "a=[100,99,20,104,109]\n",
        "print(max(a))\n",
        "a.remove(109)\n",
        "print(\"2nd largest no is:\",max(a))"
      ],
      "metadata": {
        "colab": {
          "base_uri": "https://localhost:8080/"
        },
        "id": "fsKiEDLTao2C",
        "outputId": "bee13391-0d6e-4179-fbfd-f8ac6c13e699"
      },
      "execution_count": null,
      "outputs": [
        {
          "output_type": "stream",
          "name": "stdout",
          "text": [
            "109\n",
            "2nd largest no is: 104\n"
          ]
        }
      ]
    },
    {
      "cell_type": "markdown",
      "source": [
        "13. Create a code to count the occurrences of each element in a list and return a dictionary\n",
        " with elements 'as\n",
        "keys\n",
        " and their counts as values."
      ],
      "metadata": {
        "id": "B8gMIsNY_rI4"
      }
    },
    {
      "cell_type": "code",
      "source": [
        "a={\"name\":\"shiv\",\"email\":\"shiv@gmail.com\",\"conctact\":\"1234\"}\n",
        "print(a.keys())\n",
        "print(a.values())"
      ],
      "metadata": {
        "colab": {
          "base_uri": "https://localhost:8080/"
        },
        "id": "FQVUSio9c7AK",
        "outputId": "d8b2e16a-2b3d-44a9-d817-86d8234c55a8"
      },
      "execution_count": null,
      "outputs": [
        {
          "output_type": "stream",
          "name": "stdout",
          "text": [
            "dict_keys(['name', 'email', 'conctact'])\n",
            "dict_values(['shiv', 'shiv@gmail.com', '1234'])\n"
          ]
        }
      ]
    },
    {
      "cell_type": "markdown",
      "source": [
        "14. Write a code to reverse  a list in-place without using an\n",
        " built-in reverse functions."
      ],
      "metadata": {
        "id": "jo9Qwf-WAVkE"
      }
    },
    {
      "cell_type": "code",
      "source": [
        "a =[123,\"shiv\",\"radhe\",\"ajay\",True]\n",
        "a_rev=[]\n",
        "for i in range(len(a)-1,-1,-1):\n",
        "  a_rev.append(a[i])\n",
        "print(a_rev)\n"
      ],
      "metadata": {
        "colab": {
          "base_uri": "https://localhost:8080/"
        },
        "id": "4IKlK5fWddVp",
        "outputId": "1ae3e924-9ef6-4a2a-fff9-c26b6b1ef134"
      },
      "execution_count": null,
      "outputs": [
        {
          "output_type": "stream",
          "name": "stdout",
          "text": [
            "[True, 'ajay', 'radhe', 'shiv', 123]\n"
          ]
        }
      ]
    },
    {
      "cell_type": "markdown",
      "source": [
        "15. Implement a code to find and remove duplicates from a list while preserving the origin'l order of\n",
        "elements."
      ],
      "metadata": {
        "id": "2s9_b6NkBv9F"
      }
    },
    {
      "cell_type": "code",
      "source": [
        "a=[1,1,2,2,5,6,7,9,]\n",
        "b=[]\n",
        "for i in a:\n",
        "  if i not in b:\n",
        "    b.append(i)\n",
        "print(b)"
      ],
      "metadata": {
        "colab": {
          "base_uri": "https://localhost:8080/"
        },
        "id": "GW758nehmPQi",
        "outputId": "7de2240a-5e52-48e4-877f-ac6cf7d803fe"
      },
      "execution_count": null,
      "outputs": [
        {
          "output_type": "stream",
          "name": "stdout",
          "text": [
            "[1, 2, 5, 6, 7, 9]\n"
          ]
        }
      ]
    },
    {
      "cell_type": "markdown",
      "source": [
        "16. Create a code to check if a given list is sorted (either in acending or descending order) or not."
      ],
      "metadata": {
        "id": "BvtL-m_3CExk"
      }
    },
    {
      "cell_type": "code",
      "source": [
        "a = [6,7,9,4,3]\n",
        "a_accen=a.sort()\n",
        "a_deccen=a.sort(reverse=True)\n",
        "if a==a_accen:\n",
        "  print(\"a in accending order\")\n",
        "elif a==a_deccen:\n",
        "  print(\"a in deccening order\")\n",
        "else:\n",
        "  print(\"a in regular order\")"
      ],
      "metadata": {
        "colab": {
          "base_uri": "https://localhost:8080/"
        },
        "id": "QbtIPYhfot91",
        "outputId": "cf304b1c-e868-4db2-f7a6-8430bfc48c82"
      },
      "execution_count": null,
      "outputs": [
        {
          "output_type": "stream",
          "name": "stdout",
          "text": [
            "a in regular order\n"
          ]
        }
      ]
    },
    {
      "cell_type": "markdown",
      "source": [
        "17. Write a code to merge two sorted lists into a single sorted list."
      ],
      "metadata": {
        "id": "3JnXskrGCiOO"
      }
    },
    {
      "cell_type": "code",
      "source": [
        "my_list=['brinjal','potato','sweet','chocklet']\n",
        "brother_list=['milk','egg','chicken']\n",
        "a=print(my_list+ brother_list)\n",
        "print(a.sort())\n"
      ],
      "metadata": {
        "colab": {
          "base_uri": "https://localhost:8080/",
          "height": 193
        },
        "id": "7O7562D7qh8H",
        "outputId": "6dc68c16-588b-4691-d049-f49b2aa70eb2"
      },
      "execution_count": null,
      "outputs": [
        {
          "output_type": "stream",
          "name": "stdout",
          "text": [
            "['brinjal', 'potato', 'sweet', 'chocklet', 'milk', 'egg', 'chicken']\n"
          ]
        },
        {
          "output_type": "error",
          "ename": "AttributeError",
          "evalue": "'NoneType' object has no attribute 'sort'",
          "traceback": [
            "\u001b[0;31m---------------------------------------------------------------------------\u001b[0m",
            "\u001b[0;31mAttributeError\u001b[0m                            Traceback (most recent call last)",
            "\u001b[0;32m<ipython-input-79-b37346d9c65c>\u001b[0m in \u001b[0;36m<cell line: 4>\u001b[0;34m()\u001b[0m\n\u001b[1;32m      2\u001b[0m \u001b[0mbrother_list\u001b[0m\u001b[0;34m=\u001b[0m\u001b[0;34m[\u001b[0m\u001b[0;34m'milk'\u001b[0m\u001b[0;34m,\u001b[0m\u001b[0;34m'egg'\u001b[0m\u001b[0;34m,\u001b[0m\u001b[0;34m'chicken'\u001b[0m\u001b[0;34m]\u001b[0m\u001b[0;34m\u001b[0m\u001b[0;34m\u001b[0m\u001b[0m\n\u001b[1;32m      3\u001b[0m \u001b[0ma\u001b[0m\u001b[0;34m=\u001b[0m\u001b[0mprint\u001b[0m\u001b[0;34m(\u001b[0m\u001b[0mmy_list\u001b[0m\u001b[0;34m+\u001b[0m \u001b[0mbrother_list\u001b[0m\u001b[0;34m)\u001b[0m\u001b[0;34m\u001b[0m\u001b[0;34m\u001b[0m\u001b[0m\n\u001b[0;32m----> 4\u001b[0;31m \u001b[0mprint\u001b[0m\u001b[0;34m(\u001b[0m\u001b[0ma\u001b[0m\u001b[0;34m.\u001b[0m\u001b[0msort\u001b[0m\u001b[0;34m(\u001b[0m\u001b[0;34m)\u001b[0m\u001b[0;34m)\u001b[0m\u001b[0;34m\u001b[0m\u001b[0;34m\u001b[0m\u001b[0m\n\u001b[0m",
            "\u001b[0;31mAttributeError\u001b[0m: 'NoneType' object has no attribute 'sort'"
          ]
        }
      ]
    },
    {
      "cell_type": "markdown",
      "source": [
        "18. Implement a code to find the intersection of two given list"
      ],
      "metadata": {
        "id": "HR9bYDHODzZ-"
      }
    },
    {
      "cell_type": "code",
      "source": [
        "\n",
        "s1={\"shiv\",\"radhe\",\"ajay\"}\n",
        "\n",
        "s2={\"krishna\",\"mahadev\",\"radhe\"}\n",
        "print(s1 & s2)"
      ],
      "metadata": {
        "colab": {
          "base_uri": "https://localhost:8080/"
        },
        "id": "YU0S12RhCIDV",
        "outputId": "4eb00e42-95a3-4b2d-e33b-9bd6368ced44"
      },
      "execution_count": null,
      "outputs": [
        {
          "output_type": "stream",
          "name": "stdout",
          "text": [
            "{'radhe'}\n"
          ]
        }
      ]
    },
    {
      "cell_type": "markdown",
      "source": [
        "19. Create code to find the union of two listes without duplicate"
      ],
      "metadata": {
        "id": "PnASEN-iFXc-"
      }
    },
    {
      "cell_type": "code",
      "source": [
        "s1={\"radhe\",\"datascience\",\"pythpon\",\"java\"}\n",
        "s2={\"shiv\",\"ajay\",\"krishna\",\"radhe\"}\n",
        "print(s1|s2)"
      ],
      "metadata": {
        "colab": {
          "base_uri": "https://localhost:8080/"
        },
        "id": "JTewYvT-Fo6P",
        "outputId": "129ee5b3-7dd7-45ae-e697-9c2ea81ba954"
      },
      "execution_count": null,
      "outputs": [
        {
          "output_type": "stream",
          "name": "stdout",
          "text": [
            "{'krishna', 'ajay', 'pythpon', 'radhe', 'java', 'datascience', 'shiv'}\n"
          ]
        }
      ]
    },
    {
      "cell_type": "markdown",
      "source": [
        "21.Write code that takes two tuples as input and return a new tuple ocntaining elements that are\n",
        "common to both input tuples"
      ],
      "metadata": {
        "id": "9cwa0CvLMV-j"
      }
    },
    {
      "cell_type": "code",
      "source": [
        "from types import new_class\n",
        "movie=('thor','don','radhe')\n",
        "lis=(1,3,'radhe')\n",
        "new_list=(movie+lis)\n",
        "print(new_list)\n",
        "print(movie & lis)\n"
      ],
      "metadata": {
        "colab": {
          "base_uri": "https://localhost:8080/",
          "height": 193
        },
        "id": "HntSI0w_GZ48",
        "outputId": "3c8e43c7-c16f-43fa-bac4-31946766900d"
      },
      "execution_count": null,
      "outputs": [
        {
          "output_type": "stream",
          "name": "stdout",
          "text": [
            "('thor', 'don', 'radhe', 1, 3, 'radhe')\n"
          ]
        },
        {
          "output_type": "error",
          "ename": "TypeError",
          "evalue": "unsupported operand type(s) for &: 'tuple' and 'tuple'",
          "traceback": [
            "\u001b[0;31m---------------------------------------------------------------------------\u001b[0m",
            "\u001b[0;31mTypeError\u001b[0m                                 Traceback (most recent call last)",
            "\u001b[0;32m<ipython-input-9-ec6bcdb356fa>\u001b[0m in \u001b[0;36m<cell line: 6>\u001b[0;34m()\u001b[0m\n\u001b[1;32m      4\u001b[0m \u001b[0mnew_list\u001b[0m\u001b[0;34m=\u001b[0m\u001b[0;34m(\u001b[0m\u001b[0mmovie\u001b[0m\u001b[0;34m+\u001b[0m\u001b[0mlis\u001b[0m\u001b[0;34m)\u001b[0m\u001b[0;34m\u001b[0m\u001b[0;34m\u001b[0m\u001b[0m\n\u001b[1;32m      5\u001b[0m \u001b[0mprint\u001b[0m\u001b[0;34m(\u001b[0m\u001b[0mnew_list\u001b[0m\u001b[0;34m)\u001b[0m\u001b[0;34m\u001b[0m\u001b[0;34m\u001b[0m\u001b[0m\n\u001b[0;32m----> 6\u001b[0;31m \u001b[0mprint\u001b[0m\u001b[0;34m(\u001b[0m\u001b[0mmovie\u001b[0m \u001b[0;34m&\u001b[0m \u001b[0mlis\u001b[0m\u001b[0;34m)\u001b[0m\u001b[0;34m\u001b[0m\u001b[0;34m\u001b[0m\u001b[0m\n\u001b[0m",
            "\u001b[0;31mTypeError\u001b[0m: unsupported operand type(s) for &: 'tuple' and 'tuple'"
          ]
        }
      ]
    },
    {
      "cell_type": "markdown",
      "source": [
        "22. Create a code that prompts the user to enter two sets of integers separated by\n",
        " comma Then print the\n",
        "intersection of the two sets"
      ],
      "metadata": {
        "id": "vBBVGZddSujh"
      }
    },
    {
      "cell_type": "code",
      "source": [
        "set1={1,2,3,4}\n",
        "set2={2,4,6,8}\n",
        "print(set1.intersection(set2))"
      ],
      "metadata": {
        "colab": {
          "base_uri": "https://localhost:8080/"
        },
        "id": "Dyi3muKNSt5W",
        "outputId": "52098271-fe10-43a2-d987-ec554a7a4f11"
      },
      "execution_count": null,
      "outputs": [
        {
          "output_type": "stream",
          "name": "stdout",
          "text": [
            "{2, 4}\n"
          ]
        }
      ]
    },
    {
      "cell_type": "markdown",
      "source": [
        "23.Write a code to concatenate two tuples. The function should take two tuples as input and return a new\n",
        "tuple containing elements from both input tuples"
      ],
      "metadata": {
        "id": "pUNiGFQvUEUe"
      }
    },
    {
      "cell_type": "code",
      "source": [
        "tup_1=(\"radhe\",\"shiv\",\"ajay\")\n",
        "tup_2=(1,\"456\",9,2+4j)\n",
        "print(tup_1+tup_2)"
      ],
      "metadata": {
        "colab": {
          "base_uri": "https://localhost:8080/"
        },
        "id": "2Yz4tW9AU22v",
        "outputId": "0f742248-0c16-49cf-9cf3-759ab705e622"
      },
      "execution_count": null,
      "outputs": [
        {
          "output_type": "stream",
          "name": "stdout",
          "text": [
            "('radhe', 'shiv', 'ajay', 1, '456', 9, (2+4j))\n"
          ]
        }
      ]
    },
    {
      "cell_type": "markdown",
      "source": [
        "'24.Devalop a code that prompts the user to input two sets of strings. Then print the elements that are\n",
        "present in the first set but not in the second set."
      ],
      "metadata": {
        "id": "_uzGifVgVdVo"
      }
    },
    {
      "cell_type": "code",
      "source": [
        "s1 = {\"hiking\", \"reading\", \"coding\"}\n",
        "s2 = {\"coding\", \"photography\", \"travelling\"}\n",
        "print(s1-s2)"
      ],
      "metadata": {
        "colab": {
          "base_uri": "https://localhost:8080/"
        },
        "id": "4gSlabWCXZ3y",
        "outputId": "23b29aaa-cf29-400f-b771-852d9a0c3b4b"
      },
      "execution_count": null,
      "outputs": [
        {
          "output_type": "stream",
          "name": "stdout",
          "text": [
            "{'hiking', 'reading'}\n"
          ]
        }
      ]
    },
    {
      "cell_type": "markdown",
      "source": [
        "25. Creata a code that takes a tuple and two integers as input. The function should return a new tuple\n",
        "containing elements from the original tuple within the specified range of indices."
      ],
      "metadata": {
        "id": "7EUUv3jwYQgs"
      }
    },
    {
      "cell_type": "code",
      "source": [
        "s={(1,2,3),1,2}\n",
        "for i in s:\n",
        "  print(i)"
      ],
      "metadata": {
        "colab": {
          "base_uri": "https://localhost:8080/"
        },
        "id": "TBuBfNMAars3",
        "outputId": "ed87b157-ec8a-439f-e7b5-9e89648e8b57"
      },
      "execution_count": null,
      "outputs": [
        {
          "output_type": "stream",
          "name": "stdout",
          "text": [
            "1\n",
            "2\n",
            "(1, 2, 3)\n"
          ]
        }
      ]
    },
    {
      "cell_type": "markdown",
      "source": [
        "26. Write a code that prompts the user to input two sets of characters. Then print the union of these two sets."
      ],
      "metadata": {
        "id": "NmCxcOmJb9X2"
      }
    },
    {
      "cell_type": "code",
      "source": [
        "set1={\"ajay\",\"shiv\",\"radhe\"}\n",
        "set2={\"ajay\",\"datascience\",\"python\"}\n",
        "print(set1.union(set2))"
      ],
      "metadata": {
        "colab": {
          "base_uri": "https://localhost:8080/"
        },
        "id": "t8tMRBcPcT3c",
        "outputId": "256ce7bc-be39-4a44-d201-106220af1f52"
      },
      "execution_count": null,
      "outputs": [
        {
          "output_type": "stream",
          "name": "stdout",
          "text": [
            "{'radhe', 'ajay', 'python', 'datascience', 'shiv'}\n"
          ]
        }
      ]
    },
    {
      "cell_type": "markdown",
      "source": [
        "27. Develop a code that takes a tuple of integers as input. The function should return the maximum and\n",
        "minimum values from the tuple using tuple unpacking."
      ],
      "metadata": {
        "id": "jkKA-Z5vfi97"
      }
    },
    {
      "cell_type": "code",
      "source": [
        "n=(100,23,45)\n",
        "print(max(n))\n",
        "print(min(n))\n",
        "n1,n2,n3=n\n",
        "print(n1)\n",
        "print(n2)"
      ],
      "metadata": {
        "colab": {
          "base_uri": "https://localhost:8080/"
        },
        "id": "qCmUvn6pfiMK",
        "outputId": "8816fe2f-3e02-4f6a-9722-327208c7b3ca"
      },
      "execution_count": null,
      "outputs": [
        {
          "output_type": "stream",
          "name": "stdout",
          "text": [
            "100\n",
            "23\n",
            "100\n",
            "23\n"
          ]
        }
      ]
    },
    {
      "cell_type": "markdown",
      "source": [
        "28. Create a code that defines two sets of integers. Then print the union intersection and difference of these\n",
        "two sets."
      ],
      "metadata": {
        "id": "kOq0y6Najg89"
      }
    },
    {
      "cell_type": "code",
      "source": [
        "s1={1,2,3,4,5}\n",
        "s2={4,2,6,8,10}\n",
        "print(s1&s2)\n",
        "print(s1|s2)\n",
        "print(s1-s2)\n",
        "print(s1^s2)"
      ],
      "metadata": {
        "colab": {
          "base_uri": "https://localhost:8080/"
        },
        "id": "3UD_-80Kjfsq",
        "outputId": "decadfe8-9376-4bdb-c3d9-d99a69b56ad3"
      },
      "execution_count": null,
      "outputs": [
        {
          "output_type": "stream",
          "name": "stdout",
          "text": [
            "{2, 4}\n",
            "{1, 2, 3, 4, 5, 6, 8, 10}\n",
            "{1, 3, 5}\n",
            "{1, 3, 5, 6, 8, 10}\n"
          ]
        }
      ]
    },
    {
      "cell_type": "markdown",
      "source": [
        "29. Write a code that takes a tuple and an element as input. The function should return the count of\n",
        "occurrences of the given element in the tuple."
      ],
      "metadata": {
        "id": "-Jj6xTFVlpIK"
      }
    },
    {
      "cell_type": "code",
      "source": [
        "s=('pwskills', (7+3j), True, 1, 2, 1, 1, 2, 2.2)\n",
        "print(s.count(1))"
      ],
      "metadata": {
        "colab": {
          "base_uri": "https://localhost:8080/"
        },
        "id": "yqSp9YBmlp2N",
        "outputId": "6e0a7745-83ad-4322-d163-524e4b3bac51"
      },
      "execution_count": null,
      "outputs": [
        {
          "output_type": "stream",
          "name": "stdout",
          "text": [
            "4\n"
          ]
        }
      ]
    },
    {
      "cell_type": "markdown",
      "source": [
        "30. Develop a code that prompts the user to input two sets of strings. Then print the symmetric difference of\n",
        "these two sets."
      ],
      "metadata": {
        "id": "L9NOSyMwmdS5"
      }
    },
    {
      "cell_type": "code",
      "source": [
        "set1={\"ajay\",\"shiv\",\"radhe\"}\n",
        "set2={\"ajay\",\"datascience\",\"python\"}\n",
        "print(set1^set2)"
      ],
      "metadata": {
        "colab": {
          "base_uri": "https://localhost:8080/"
        },
        "id": "E6B08WLInDck",
        "outputId": "a25dca4e-f062-47a1-fc6d-615b4b9d94d7"
      },
      "execution_count": null,
      "outputs": [
        {
          "output_type": "stream",
          "name": "stdout",
          "text": [
            "{'radhe', 'python', 'datascience', 'shiv'}\n"
          ]
        }
      ]
    },
    {
      "cell_type": "markdown",
      "source": [
        "31. Write a code that takes a list of words as input +nd returns a dictionary where the keys are unique words\n",
        "and the values are the frequencies of those words in the input list.\n"
      ],
      "metadata": {
        "id": "eOgUiPRQnqfC"
      }
    },
    {
      "cell_type": "code",
      "source": [
        "list1 = [\"ajay\",\"shiv\",\"deloite\",\"ericsson\",\"deloite\",\"ajay\"]\n",
        "s = set(list1)\n",
        "print(s)"
      ],
      "metadata": {
        "colab": {
          "base_uri": "https://localhost:8080/"
        },
        "id": "Hnz2-_xWnrUo",
        "outputId": "e1b877d4-305c-43ab-ed82-74ba362569d1"
      },
      "execution_count": null,
      "outputs": [
        {
          "output_type": "stream",
          "name": "stdout",
          "text": [
            "{'ajay', 'deloite', 'ericsson', 'shiv'}\n"
          ]
        }
      ]
    },
    {
      "cell_type": "markdown",
      "source": [
        "32. Write a code that takes two dictionaries as input and merges them into a single dictionary. If there are\n",
        "common keys, the values should be added together."
      ],
      "metadata": {
        "id": "Ii48tgSroxQH"
      }
    },
    {
      "cell_type": "code",
      "source": [
        "d={'name': ['Ajay', 'Bijay', 'Sanjay']}\n",
        "d1 = {\"course\": \"DS\", \"start\": \"20th mar\"}\n",
        "\n",
        "print(d|d1)"
      ],
      "metadata": {
        "colab": {
          "base_uri": "https://localhost:8080/"
        },
        "id": "F59Lrzgyq8O7",
        "outputId": "7fbc536e-242a-4700-ba3a-eed7b75a9f25"
      },
      "execution_count": null,
      "outputs": [
        {
          "output_type": "stream",
          "name": "stdout",
          "text": [
            "{'name': ['Ajay', 'Bijay', 'Sanjay'], 'course': 'DS', 'start': '20th mar'}\n"
          ]
        }
      ]
    },
    {
      "cell_type": "markdown",
      "source": [
        "33. Write a code to access a value in a nested dictionary. The function should take the dictionare and a list of\n",
        "keys as input +nd return the corresponding value. If any of the keys do not exist in the diction+ary the\n",
        "function should return None."
      ],
      "metadata": {
        "id": "szNInnudtGSp"
      }
    },
    {
      "cell_type": "code",
      "source": [
        "employee_records = {\n",
        "    'E001': {'name': 'John Doe', 'department': 'Engineering', 'salary': 75000},\n",
        "    'E002': {'name': 'Jane Smith', 'department': 'Marketing', 'salary': 65000},\n",
        "    'E003': {'name': 'David Lee', 'department': 'Finance', 'salary': 80000}\n",
        "}\n",
        "print(employee_records['E003'])\n"
      ],
      "metadata": {
        "colab": {
          "base_uri": "https://localhost:8080/"
        },
        "id": "TeT4Hz0ctu02",
        "outputId": "96aa6a8c-ec58-459b-f2b3-908ff54ffd28"
      },
      "execution_count": null,
      "outputs": [
        {
          "output_type": "stream",
          "name": "stdout",
          "text": [
            "{'name': 'David Lee', 'department': 'Finance', 'salary': 80000}\n"
          ]
        }
      ]
    },
    {
      "cell_type": "markdown",
      "source": [
        "34. Write a code that takes a dictionary is input and returns a sorted version of it basad on the values. You\n",
        "can choose whether to sort in ascending or descending order."
      ],
      "metadata": {
        "id": "UHN6uqquzsU1"
      }
    },
    {
      "cell_type": "code",
      "source": [
        "a={'a':1,'b':5,'c':9}\n",
        "b=sorted(a.items(),key=lambda x:x[1],reverse=True)\n",
        "print(b)"
      ],
      "metadata": {
        "colab": {
          "base_uri": "https://localhost:8080/"
        },
        "id": "xBtuam1A1RKU",
        "outputId": "b1c6b106-60ed-4905-c484-786f97a4b758"
      },
      "execution_count": null,
      "outputs": [
        {
          "output_type": "stream",
          "name": "stdout",
          "text": [
            "[('c', 9), ('b', 5), ('a', 1)]\n"
          ]
        }
      ]
    },
    {
      "cell_type": "markdown",
      "source": [
        "35. Write a code that inverts a dictionary swapping keys and values. Ensure that the inverted dictionary\n",
        "correctly handles cases where multiple keys have the same value by storing the keys as a list in the\n",
        "inverted dictionary."
      ],
      "metadata": {
        "id": "bdGz139U58Xn"
      }
    },
    {
      "cell_type": "code",
      "source": [
        "a={101:\"akshat\",201:\"ball\"}\n",
        "print(a)\n",
        "inv_a=dict(zip(a.values(),a.keys()))\n",
        "print(inv_a)"
      ],
      "metadata": {
        "colab": {
          "base_uri": "https://localhost:8080/"
        },
        "id": "FG40u_7358yt",
        "outputId": "fcbc177b-51df-4776-eed0-4901b8e3b29c"
      },
      "execution_count": null,
      "outputs": [
        {
          "output_type": "stream",
          "name": "stdout",
          "text": [
            "{101: 'akshat', 201: 'ball'}\n",
            "{'akshat': 101, 'ball': 201}\n"
          ]
        }
      ]
    }
  ]
}